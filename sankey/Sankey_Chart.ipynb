{
 "cells": [
  {
   "cell_type": "markdown",
   "metadata": {},
   "source": [
    "# Generating a Sankey diagram"
   ]
  },
  {
   "cell_type": "code",
   "execution_count": 1,
   "metadata": {},
   "outputs": [],
   "source": [
    "import numpy as np \n",
    "import pandas as pd "
   ]
  },
  {
   "cell_type": "code",
   "execution_count": 14,
   "metadata": {},
   "outputs": [
    {
     "data": {
      "text/html": [
       "<style>.container { width:100% !important; }</style>"
      ],
      "text/plain": [
       "<IPython.core.display.HTML object>"
      ]
     },
     "metadata": {},
     "output_type": "display_data"
    }
   ],
   "source": [
    "from IPython.core.display import display, HTML\n",
    "display(HTML(\"<style>.container { width:100% !important; }</style>\"))"
   ]
  },
  {
   "cell_type": "markdown",
   "metadata": {},
   "source": [
    "# Prepare dummy data"
   ]
  },
  {
   "cell_type": "code",
   "execution_count": 2,
   "metadata": {},
   "outputs": [],
   "source": [
    "#df_query.columns =['token', 'state', 'evnt_ts']"
   ]
  },
  {
   "cell_type": "code",
   "execution_count": 3,
   "metadata": {},
   "outputs": [],
   "source": [
    "df = pd.DataFrame(columns=[\"token\", \"state\", \"evnt_ts\"])\n",
    "\n",
    "df = df.append({\"token\": 1, \"state\":\"A\",  \"evnt_ts\":pd.to_datetime(\"2019-01-01 00:00:00\")  }, ignore_index=True)\n",
    "df = df.append({\"token\": 1, \"state\":\"B\",  \"evnt_ts\":pd.to_datetime(\"2019-01-01 00:01:00\")  }, ignore_index=True)\n",
    "df = df.append({\"token\": 1, \"state\":\"C\",  \"evnt_ts\":pd.to_datetime(\"2019-01-01 00:02:00\")  }, ignore_index=True)\n",
    "df = df.append({\"token\": 1, \"state\":\"D\",  \"evnt_ts\":pd.to_datetime(\"2019-01-01 00:03:00\")  }, ignore_index=True)\n",
    "df = df.append({\"token\": 1, \"state\":\"E\",  \"evnt_ts\":pd.to_datetime(\"2019-01-01 00:04:00\")  }, ignore_index=True)\n",
    "df = df.append({\"token\": 1, \"state\":\"F\",  \"evnt_ts\":pd.to_datetime(\"2019-01-01 00:05:00\")  }, ignore_index=True)\n",
    "\n",
    "df = df.append({\"token\": 2, \"state\":\"A\",  \"evnt_ts\":pd.to_datetime(\"2019-01-01 00:00:00\")  }, ignore_index=True)\n",
    "df = df.append({\"token\": 2, \"state\":\"C\",  \"evnt_ts\":pd.to_datetime(\"2019-01-01 00:01:00\")  }, ignore_index=True)\n",
    "df = df.append({\"token\": 2, \"state\":\"B\",  \"evnt_ts\":pd.to_datetime(\"2019-01-01 00:02:00\")  }, ignore_index=True)\n",
    "df = df.append({\"token\": 2, \"state\":\"D\",  \"evnt_ts\":pd.to_datetime(\"2019-01-01 00:03:00\")  }, ignore_index=True)\n",
    "df = df.append({\"token\": 2, \"state\":\"E\",  \"evnt_ts\":pd.to_datetime(\"2019-01-01 00:04:00\")  }, ignore_index=True)\n",
    "df = df.append({\"token\": 2, \"state\":\"F\",  \"evnt_ts\":pd.to_datetime(\"2019-01-01 00:05:00\")  }, ignore_index=True)\n",
    "\n",
    "df = df.append({\"token\": 3, \"state\":\"A\",  \"evnt_ts\":pd.to_datetime(\"2019-01-01 00:00:00\")  }, ignore_index=True)\n",
    "df = df.append({\"token\": 3, \"state\":\"F\",  \"evnt_ts\":pd.to_datetime(\"2019-01-01 00:05:00\")  }, ignore_index=True)\n",
    "\n",
    "\n",
    "df = df.append({\"token\": 4, \"state\":\"A\",  \"evnt_ts\":pd.to_datetime(\"2019-01-01 00:00:00\")  }, ignore_index=True)\n",
    "df = df.append({\"token\": 4, \"state\":\"E\",  \"evnt_ts\":pd.to_datetime(\"2019-01-01 00:04:00\")  }, ignore_index=True)\n",
    "df = df.append({\"token\": 4, \"state\":\"F\",  \"evnt_ts\":pd.to_datetime(\"2019-01-01 00:05:00\")  }, ignore_index=True)\n",
    "\n",
    "df = df.append({\"token\": 5, \"state\":\"A\",  \"evnt_ts\":pd.to_datetime(\"2019-01-01 00:00:00\")  }, ignore_index=True)\n",
    "df = df.append({\"token\": 5, \"state\":\"D\",  \"evnt_ts\":pd.to_datetime(\"2019-01-01 00:03:00\")  }, ignore_index=True)\n",
    "df = df.append({\"token\": 5, \"state\":\"E\",  \"evnt_ts\":pd.to_datetime(\"2019-01-01 00:04:00\")  }, ignore_index=True)\n",
    "df = df.append({\"token\": 5, \"state\":\"F\",  \"evnt_ts\":pd.to_datetime(\"2019-01-01 00:05:00\")  }, ignore_index=True)\n",
    "\n",
    "df_query = df"
   ]
  },
  {
   "cell_type": "markdown",
   "metadata": {},
   "source": [
    "# Post process - add log_start and calculate drop off"
   ]
  },
  {
   "cell_type": "code",
   "execution_count": 4,
   "metadata": {},
   "outputs": [],
   "source": [
    "###############################################################################\n",
    "\n",
    "df_temp=pd.DataFrame({'token':df_query.token.values\n",
    "                      ,'state':df_query.state.values\n",
    "                      ,'evnt_ts':pd.to_datetime(df_query.evnt_ts.values, utc=True)})\n",
    "\n",
    "# plot with all the data as is (can have excessive loops)\n",
    "#df = df_temp\n",
    "\n",
    "# plot only the first visit to a state\n",
    "df = pd.DataFrame({'evnt_ts':df_temp.groupby(['token','state'])['evnt_ts'].min()}).reset_index()"
   ]
  },
  {
   "cell_type": "code",
   "execution_count": 5,
   "metadata": {},
   "outputs": [],
   "source": [
    "# Add 'log_start' to each token series (helps get clean sankey diagrams)\n",
    "\n",
    "from datetime import timedelta\n",
    "df_log_start_ts = df.groupby(['token'])['evnt_ts'].min()-timedelta(seconds=1)\n",
    "df_log_end_ts   = df.groupby(['token'])['evnt_ts'].max()+timedelta(seconds=1)\n",
    "\n",
    "df_log_start = pd.DataFrame({'token':df_log_start_ts.index.values, 'state':'log_start', 'evnt_ts':df_log_start_ts.values})\n",
    "df_log_end  = pd.DataFrame({'token':df_log_end_ts.index.values  , 'state':'log_end'  , 'evnt_ts':df_log_end_ts.values  })\n",
    "\n",
    "df = df.append(df_log_start, ignore_index=True)\n",
    "#df = df.append(df_log_end, ignore_index=True)\n",
    "df.evnt_ts = pd.to_datetime(df.evnt_ts, utc=True)\n",
    "\n",
    "df['forward_rank'] = df.groupby(['token'])['evnt_ts'].rank(ascending=True)\n",
    "df['forward_rank_plus_one'] = df.groupby(['token'])['evnt_ts'].rank(ascending=True)+1\n",
    "df['reverse_rank'] = df.groupby(['token'])['evnt_ts'].rank(ascending=False)\n",
    "\n",
    "df = df.sort_values(by=['token','evnt_ts'])\n",
    "df.reset_index(inplace=True, drop=True)"
   ]
  },
  {
   "cell_type": "code",
   "execution_count": 6,
   "metadata": {},
   "outputs": [],
   "source": [
    "###############################################################################\n",
    "# calculate 'state' metrics like visits, drops and percent_drop\n",
    "\n",
    "df_state_visits = pd.DataFrame({'visits' : df.groupby(['state'])['token'].nunique()}).reset_index()\n",
    "df_state_drops  = pd.DataFrame({'drops'  : df[df['reverse_rank']==1].groupby(['state'])['token'].nunique()}).reset_index()\n",
    "df_state_metrics=pd.merge(df_state_visits, df_state_drops, on='state', how='left')\n",
    "df_state_metrics['visitors_percent']=np.round(df_state_metrics.visits.values/df.token.nunique()*100,1)\n",
    "df_state_metrics['drop_off_percent']=np.round(df_state_metrics.drops.values/df.token.nunique()*100,1)\n",
    "df_state_metrics['stage_drop_off_percent']=np.round(df_state_metrics.drops.values/df_state_metrics.visits.values*100,1)\n",
    "df_state_metrics = df_state_metrics.fillna(0)"
   ]
  },
  {
   "cell_type": "code",
   "execution_count": 7,
   "metadata": {},
   "outputs": [],
   "source": [
    "##############################################################################\n",
    "# calculate state transition metrics \n",
    "\n",
    "df_t = pd.merge(df, df,  how='inner', left_on=['token','forward_rank_plus_one'], right_on = ['token','forward_rank'])\n",
    "\n",
    "df_state_transitions = pd.DataFrame({'counts' : df_t.groupby(['state_x','state_y'])['token'].nunique()}).reset_index()\n",
    "df_state_transitions['percent']=np.round(df_state_transitions.counts.values / df_t.token.nunique()*100,1)"
   ]
  },
  {
   "cell_type": "markdown",
   "metadata": {},
   "source": [
    "# Filter small transitions"
   ]
  },
  {
   "cell_type": "code",
   "execution_count": 8,
   "metadata": {},
   "outputs": [],
   "source": [
    "###############################################################################\n",
    "\n",
    "# filter off the small transitions\n",
    "filter_percent_cutoff = 0\n",
    "\n",
    "df_final = df_state_transitions[df_state_transitions.percent>=filter_percent_cutoff]\n",
    "df_final.sort_values(by=['percent'], axis=0, ascending=False, inplace=True)\n",
    "df_final.reset_index(inplace=True, drop=True)\n",
    "\n",
    "node_list = list(df_state_metrics.state.values)\n",
    "node_label = [df_state_metrics.state[i] + \n",
    "             '(' +  str(df_state_metrics.visitors_percent[i]) + '%V '\n",
    "                 +  str(df_state_metrics.drop_off_percent[i]) + '%D '  \n",
    "                 +  str(df_state_metrics.stage_drop_off_percent[i]) + '%SD)'                \n",
    "             for i in range(df_state_metrics.shape[0]) ]"
   ]
  },
  {
   "cell_type": "code",
   "execution_count": 9,
   "metadata": {},
   "outputs": [
    {
     "data": {
      "text/html": [
       "<div>\n",
       "<style scoped>\n",
       "    .dataframe tbody tr th:only-of-type {\n",
       "        vertical-align: middle;\n",
       "    }\n",
       "\n",
       "    .dataframe tbody tr th {\n",
       "        vertical-align: top;\n",
       "    }\n",
       "\n",
       "    .dataframe thead th {\n",
       "        text-align: right;\n",
       "    }\n",
       "</style>\n",
       "<table border=\"1\" class=\"dataframe\">\n",
       "  <thead>\n",
       "    <tr style=\"text-align: right;\">\n",
       "      <th></th>\n",
       "      <th>state</th>\n",
       "      <th>visits</th>\n",
       "      <th>drops</th>\n",
       "      <th>visitors_percent</th>\n",
       "      <th>drop_off_percent</th>\n",
       "      <th>stage_drop_off_percent</th>\n",
       "    </tr>\n",
       "  </thead>\n",
       "  <tbody>\n",
       "    <tr>\n",
       "      <th>0</th>\n",
       "      <td>A</td>\n",
       "      <td>5</td>\n",
       "      <td>0.0</td>\n",
       "      <td>100.0</td>\n",
       "      <td>0.0</td>\n",
       "      <td>0.0</td>\n",
       "    </tr>\n",
       "    <tr>\n",
       "      <th>1</th>\n",
       "      <td>B</td>\n",
       "      <td>2</td>\n",
       "      <td>0.0</td>\n",
       "      <td>40.0</td>\n",
       "      <td>0.0</td>\n",
       "      <td>0.0</td>\n",
       "    </tr>\n",
       "    <tr>\n",
       "      <th>2</th>\n",
       "      <td>C</td>\n",
       "      <td>2</td>\n",
       "      <td>0.0</td>\n",
       "      <td>40.0</td>\n",
       "      <td>0.0</td>\n",
       "      <td>0.0</td>\n",
       "    </tr>\n",
       "    <tr>\n",
       "      <th>3</th>\n",
       "      <td>D</td>\n",
       "      <td>3</td>\n",
       "      <td>0.0</td>\n",
       "      <td>60.0</td>\n",
       "      <td>0.0</td>\n",
       "      <td>0.0</td>\n",
       "    </tr>\n",
       "    <tr>\n",
       "      <th>4</th>\n",
       "      <td>E</td>\n",
       "      <td>4</td>\n",
       "      <td>0.0</td>\n",
       "      <td>80.0</td>\n",
       "      <td>0.0</td>\n",
       "      <td>0.0</td>\n",
       "    </tr>\n",
       "    <tr>\n",
       "      <th>5</th>\n",
       "      <td>F</td>\n",
       "      <td>5</td>\n",
       "      <td>5.0</td>\n",
       "      <td>100.0</td>\n",
       "      <td>100.0</td>\n",
       "      <td>100.0</td>\n",
       "    </tr>\n",
       "    <tr>\n",
       "      <th>6</th>\n",
       "      <td>log_start</td>\n",
       "      <td>5</td>\n",
       "      <td>0.0</td>\n",
       "      <td>100.0</td>\n",
       "      <td>0.0</td>\n",
       "      <td>0.0</td>\n",
       "    </tr>\n",
       "  </tbody>\n",
       "</table>\n",
       "</div>"
      ],
      "text/plain": [
       "       state  visits  drops  visitors_percent  drop_off_percent  \\\n",
       "0          A       5    0.0             100.0               0.0   \n",
       "1          B       2    0.0              40.0               0.0   \n",
       "2          C       2    0.0              40.0               0.0   \n",
       "3          D       3    0.0              60.0               0.0   \n",
       "4          E       4    0.0              80.0               0.0   \n",
       "5          F       5    5.0             100.0             100.0   \n",
       "6  log_start       5    0.0             100.0               0.0   \n",
       "\n",
       "   stage_drop_off_percent  \n",
       "0                     0.0  \n",
       "1                     0.0  \n",
       "2                     0.0  \n",
       "3                     0.0  \n",
       "4                     0.0  \n",
       "5                   100.0  \n",
       "6                     0.0  "
      ]
     },
     "execution_count": 9,
     "metadata": {},
     "output_type": "execute_result"
    }
   ],
   "source": [
    "df_state_metrics"
   ]
  },
  {
   "cell_type": "code",
   "execution_count": 10,
   "metadata": {},
   "outputs": [],
   "source": [
    "# These are the \"Tableau 20\" colors as RGB.    \n",
    "# http://www.randalolson.com/2014/06/28/how-to-make-beautiful-data-visualizations-in-python-with-matplotlib/\n",
    "tableau20 = [(31, 119, 180), (174, 199, 232), (255, 127, 14), (255, 187, 120),    \n",
    "             (44, 160, 44), (152, 223, 138), (214, 39, 40), (255, 152, 150),    \n",
    "             (148, 103, 189), (197, 176, 213), (140, 86, 75), (196, 156, 148),    \n",
    "             (227, 119, 194), (247, 182, 210), (127, 127, 127), (199, 199, 199),    \n",
    "             (188, 189, 34), (219, 219, 141), (23, 190, 207), (158, 218, 229)]    \n",
    "# Scale the RGB values to the [0, 1] range, which is the format matplotlib accepts.    \n",
    "for i in range(len(tableau20)):    \n",
    "    r, g, b = tableau20[i]    \n",
    "    tableau20[i] = (r / 255., g / 255., b / 255.) \n",
    "from matplotlib import colors\n",
    "from matplotlib import cm\n",
    "from matplotlib.colors import ListedColormap, LinearSegmentedColormap\n",
    "viridis = cm.get_cmap('viridis', 12)\n",
    "#node_colors=[colors.rgb2hex(viridis(i/len(node_list))[:3]) for i in range(len(node_list))]\n",
    "node_colors=[colors.rgb2hex(tableau20[i % len(tableau20)]) for i in range(len(node_list))]"
   ]
  },
  {
   "cell_type": "markdown",
   "metadata": {},
   "source": [
    "# Generate Sankey"
   ]
  },
  {
   "cell_type": "code",
   "execution_count": 11,
   "metadata": {},
   "outputs": [
    {
     "name": "stdout",
     "output_type": "stream",
     "text": [
      "4.14.3\n"
     ]
    },
    {
     "data": {
      "text/html": [
       "        <script type=\"text/javascript\">\n",
       "        window.PlotlyConfig = {MathJaxConfig: 'local'};\n",
       "        if (window.MathJax) {MathJax.Hub.Config({SVG: {font: \"STIX-Web\"}});}\n",
       "        if (typeof require !== 'undefined') {\n",
       "        require.undef(\"plotly\");\n",
       "        requirejs.config({\n",
       "            paths: {\n",
       "                'plotly': ['https://cdn.plot.ly/plotly-latest.min']\n",
       "            }\n",
       "        });\n",
       "        require(['plotly'], function(Plotly) {\n",
       "            window._Plotly = Plotly;\n",
       "        });\n",
       "        }\n",
       "        </script>\n",
       "        "
      ]
     },
     "metadata": {},
     "output_type": "display_data"
    }
   ],
   "source": [
    "import numpy as np\n",
    "import plotly as ptly\n",
    "from plotly import __version__\n",
    "from plotly.offline import download_plotlyjs, init_notebook_mode, plot,iplot\n",
    "print (__version__) # requires version >= 1.9.0\n",
    "\n",
    "#Always run this the command before at the start of notebook\n",
    "init_notebook_mode(connected=True)"
   ]
  },
  {
   "cell_type": "code",
   "execution_count": 12,
   "metadata": {},
   "outputs": [],
   "source": [
    "\n",
    "###############################################################################\n",
    "\n",
    "# populate source & target indexes and value (height of the connection)\n",
    "df_final['Source']=0\n",
    "df_final['Target']=0\n",
    "df_final['Value']=df_final.percent.values\n",
    "df_final['Color'] = '#262C46'\n",
    "\n",
    "pd.options.mode.chained_assignment = None  # default='warn'\n",
    "for i in range(df_final.shape[0]):\n",
    "    df_final['Source'][i] = node_list.index(df_final.state_x[i])\n",
    "    df_final['Target'][i] = node_list.index(df_final.state_y[i])\n"
   ]
  },
  {
   "cell_type": "code",
   "execution_count": 16,
   "metadata": {},
   "outputs": [
    {
     "data": {
      "application/vnd.plotly.v1+json": {
       "config": {
        "linkText": "Export to plot.ly",
        "plotlyServerURL": "https://plot.ly",
        "showLink": false
       },
       "data": [
        {
         "arrangement": "freeform",
         "domain": {
          "x": [
           0.1,
           0.9
          ],
          "y": [
           0.1,
           0.9
          ]
         },
         "link": {
          "source": [
           6,
           4,
           3,
           0,
           0,
           0,
           0,
           0,
           1,
           1,
           2,
           2
          ],
          "target": [
           0,
           5,
           4,
           1,
           2,
           3,
           4,
           5,
           2,
           3,
           1,
           3
          ],
          "value": [
           100,
           80,
           60,
           20,
           20,
           20,
           20,
           20,
           20,
           20,
           20,
           20
          ]
         },
         "node": {
          "color": [
           "#1f77b4",
           "#aec7e8",
           "#ff7f0e",
           "#ffbb78",
           "#2ca02c",
           "#98df8a",
           "#d62728"
          ],
          "label": [
           "A(100.0%V 0.0%D 0.0%SD)",
           "B(40.0%V 0.0%D 0.0%SD)",
           "C(40.0%V 0.0%D 0.0%SD)",
           "D(60.0%V 0.0%D 0.0%SD)",
           "E(80.0%V 0.0%D 0.0%SD)",
           "F(100.0%V 100.0%D 100.0%SD)",
           "log_start(100.0%V 0.0%D 0.0%SD)"
          ],
          "line": {
           "color": "black",
           "width": 1
          },
          "pad": 15,
          "thickness": 30
         },
         "orientation": "h",
         "type": "sankey",
         "valueformat": ".3f"
        }
       ],
       "layout": {
        "font": {
         "size": 10
        },
        "height": 1000,
        "title": "User flow",
        "width": 1400
       }
      },
      "text/html": [
       "<div>                            <div id=\"fc62c384-af55-47fb-9e59-e46a2f8b1c4d\" class=\"plotly-graph-div\" style=\"height:1000px; width:1400px;\"></div>            <script type=\"text/javascript\">                require([\"plotly\"], function(Plotly) {                    window.PLOTLYENV=window.PLOTLYENV || {};                                    if (document.getElementById(\"fc62c384-af55-47fb-9e59-e46a2f8b1c4d\")) {                    Plotly.newPlot(                        \"fc62c384-af55-47fb-9e59-e46a2f8b1c4d\",                        [{\"arrangement\": \"freeform\", \"domain\": {\"x\": [0.1, 0.9], \"y\": [0.1, 0.9]}, \"link\": {\"source\": [6, 4, 3, 0, 0, 0, 0, 0, 1, 1, 2, 2], \"target\": [0, 5, 4, 1, 2, 3, 4, 5, 2, 3, 1, 3], \"value\": [100.0, 80.0, 60.0, 20.0, 20.0, 20.0, 20.0, 20.0, 20.0, 20.0, 20.0, 20.0]}, \"node\": {\"color\": [\"#1f77b4\", \"#aec7e8\", \"#ff7f0e\", \"#ffbb78\", \"#2ca02c\", \"#98df8a\", \"#d62728\"], \"label\": [\"A(100.0%V 0.0%D 0.0%SD)\", \"B(40.0%V 0.0%D 0.0%SD)\", \"C(40.0%V 0.0%D 0.0%SD)\", \"D(60.0%V 0.0%D 0.0%SD)\", \"E(80.0%V 0.0%D 0.0%SD)\", \"F(100.0%V 100.0%D 100.0%SD)\", \"log_start(100.0%V 0.0%D 0.0%SD)\"], \"line\": {\"color\": \"black\", \"width\": 1}, \"pad\": 15, \"thickness\": 30}, \"orientation\": \"h\", \"type\": \"sankey\", \"valueformat\": \".3f\"}],                        {\"font\": {\"size\": 10}, \"height\": 1000, \"title\": \"User flow\", \"width\": 1400},                        {\"responsive\": true}                    ).then(function(){\n",
       "                            \n",
       "var gd = document.getElementById('fc62c384-af55-47fb-9e59-e46a2f8b1c4d');\n",
       "var x = new MutationObserver(function (mutations, observer) {{\n",
       "        var display = window.getComputedStyle(gd).display;\n",
       "        if (!display || display === 'none') {{\n",
       "            console.log([gd, 'removed!']);\n",
       "            Plotly.purge(gd);\n",
       "            observer.disconnect();\n",
       "        }}\n",
       "}});\n",
       "\n",
       "// Listen for the removal of the full notebook cells\n",
       "var notebookContainer = gd.closest('#notebook-container');\n",
       "if (notebookContainer) {{\n",
       "    x.observe(notebookContainer, {childList: true});\n",
       "}}\n",
       "\n",
       "// Listen for the clearing of the current output cell\n",
       "var outputEl = gd.closest('.output');\n",
       "if (outputEl) {{\n",
       "    x.observe(outputEl, {childList: true});\n",
       "}}\n",
       "\n",
       "                        })                };                });            </script>        </div>"
      ]
     },
     "metadata": {},
     "output_type": "display_data"
    }
   ],
   "source": [
    "###############################################################################\n",
    "data_trace = dict(\n",
    "  type = 'sankey',\n",
    "  domain = dict(x = [0.1,0.9], y = [0.1,0.9]),\n",
    "  orientation = \"h\",\n",
    "  valueformat = \".3f\",\n",
    "  arrangement = \"freeform\",\n",
    "  node = dict(\n",
    "    pad = 15,\n",
    "    thickness = 30,\n",
    "    line = dict(color = \"black\", width = 1),\n",
    "    label = node_label,\n",
    "    color = node_colors\n",
    "  ),\n",
    "  link = dict(\n",
    "    source = df_final ['Source'].dropna(axis = 0, how = 'any'),\n",
    "    target = df_final ['Target'].dropna(axis = 0, how = 'any'),\n",
    "    value = df_final ['Value'].dropna(axis = 0, how = 'any')\n",
    "  )\n",
    ")\n",
    "\n",
    "layout = dict(\n",
    "  title = \"User flow\",\n",
    "  height = 1000,\n",
    "  width = 1400,\n",
    "  font = dict(size = 10)\n",
    " )\n",
    "\n",
    "fig = dict(data = [data_trace], layout = layout) \n",
    "iplot(fig, validate = False) # for Notebooks\n",
    "#ptly.offline.plot(fig, validate=False)"
   ]
  }
 ],
 "metadata": {
  "kernelspec": {
   "display_name": "Python 3",
   "language": "python",
   "name": "python3"
  },
  "language_info": {
   "codemirror_mode": {
    "name": "ipython",
    "version": 3
   },
   "file_extension": ".py",
   "mimetype": "text/x-python",
   "name": "python",
   "nbconvert_exporter": "python",
   "pygments_lexer": "ipython3",
   "version": "3.8.5"
  }
 },
 "nbformat": 4,
 "nbformat_minor": 4
}
